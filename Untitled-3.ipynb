{
 "cells": [
  {
   "cell_type": "markdown",
   "metadata": {},
   "source": [
    "# Import Required Libraries\n",
    "Import the necessary libraries, including pandas."
   ]
  },
  {
   "cell_type": "code",
   "execution_count": 23,
   "metadata": {},
   "outputs": [],
   "source": [
    "# Import the necessary libraries, including pandas\n",
    "import pandas as pd"
   ]
  },
  {
   "cell_type": "markdown",
   "metadata": {},
   "source": [
    "# Load CSV File\n",
    "Use pandas to load data from a CSV file into a DataFrame."
   ]
  },
  {
   "cell_type": "code",
   "execution_count": 24,
   "metadata": {},
   "outputs": [
    {
     "name": "stdout",
     "output_type": "stream",
     "text": [
      "Error: The file at path/to/your/file.csv was not found. Please check the file path and try again.\n"
     ]
    }
   ],
   "source": [
    "# Import Required Libraries\n",
    "import pandas as pd\n",
    "\n",
    "# Load CSV File\n",
    "file_path = 'path/to/your/file.csv'\n",
    "\n",
    "try:\n",
    "    data = pd.read_csv(file_path)\n",
    "    # Display Data\n",
    "    print(data.head())\n",
    "\n",
    "    # Basic Data Analysis\n",
    "    # Check for missing values\n",
    "    print(data.isnull().sum())\n",
    "\n",
    "    # Get summary statistics\n",
    "    print(data.describe())\n",
    "except FileNotFoundError:\n",
    "    print(f\"Error: The file at {file_path} was not found. Please check the file path and try again.\")"
   ]
  },
  {
   "cell_type": "markdown",
   "metadata": {},
   "source": [
    "# Display Data\n",
    "Display the first few rows of the DataFrame using the head() function."
   ]
  },
  {
   "cell_type": "code",
   "execution_count": 25,
   "metadata": {},
   "outputs": [
    {
     "name": "stdout",
     "output_type": "stream",
     "text": [
      "Error: The file at path/to/your/file.csv was not found. Please check the file path and try again.\n"
     ]
    }
   ],
   "source": [
    "# Load CSV File\n",
    "try:\n",
    "\tdata = pd.read_csv(file_path)\n",
    "\t# Display Data\n",
    "\t# Display the first few rows of the DataFrame using the head() function.\n",
    "\tdisplay(data.head())\n",
    "except FileNotFoundError:\n",
    "\tprint(f\"Error: The file at {file_path} was not found. Please check the file path and try again.\")"
   ]
  },
  {
   "cell_type": "markdown",
   "metadata": {},
   "source": [
    "# Basic Data Analysis\n",
    "Perform basic data analysis, such as checking for missing values and getting summary statistics."
   ]
  },
  {
   "cell_type": "code",
   "execution_count": 26,
   "metadata": {},
   "outputs": [
    {
     "name": "stdout",
     "output_type": "stream",
     "text": [
      "Error: The file at path/to/your/file.csv was not found. Please check the file path and try again.\n"
     ]
    }
   ],
   "source": [
    "# Load CSV File\n",
    "try:\n",
    "\tdata = pd.read_csv(file_path)\n",
    "\t\n",
    "\t# Display Data\n",
    "\tprint(data.head())\n",
    "\n",
    "\t# Basic Data Analysis\n",
    "\n",
    "\t# Check for missing values in the DataFrame\n",
    "\tmissing_values = data.isnull().sum()\n",
    "\tprint(\"Missing values in each column:\\n\", missing_values)\n",
    "\n",
    "\t# Get summary statistics of the DataFrame\n",
    "\tsummary_statistics = data.describe()\n",
    "\tprint(\"\\nSummary statistics:\\n\", summary_statistics)\n",
    "except FileNotFoundError:\n",
    "\tprint(f\"Error: The file at {file_path} was not found. Please check the file path and try again.\")"
   ]
  },
  {
   "cell_type": "code",
   "execution_count": null,
   "metadata": {},
   "outputs": [],
   "source": []
  }
 ],
 "metadata": {
  "kernelspec": {
   "display_name": "base",
   "language": "python",
   "name": "python3"
  },
  "language_info": {
   "codemirror_mode": {
    "name": "ipython",
    "version": 3
   },
   "file_extension": ".py",
   "mimetype": "text/x-python",
   "name": "python",
   "nbconvert_exporter": "python",
   "pygments_lexer": "ipython3",
   "version": "3.12.7"
  }
 },
 "nbformat": 4,
 "nbformat_minor": 2
}
